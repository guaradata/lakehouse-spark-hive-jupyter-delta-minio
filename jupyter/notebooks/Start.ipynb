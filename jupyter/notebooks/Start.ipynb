{
 "cells": [
  {
   "cell_type": "code",
   "execution_count": null,
   "id": "24d74e1a-2264-4134-8b83-cb3bd9e82611",
   "metadata": {},
   "outputs": [],
   "source": [
    "from pyspark.sql import SparkSession\n",
    "from pyspark.sql.functions import *\n",
    "from pyspark.sql.types import *\n",
    "\n",
    "spark = SparkSession.builder \\\n",
    "    .appName(\"S3\") \\\n",
    "    .master(\"spark://spark-master:7077\") \\\n",
    "    .config(\"spark.jars.packages\", \"io.delta:delta-spark_2.12:3.1.0,io.delta:delta-storage:3.1.0,org.antlr:antlr4-runtime:4.9.3,org.scala-lang:scala-library:2.12.17,org.apache.hadoop:hadoop-aws:3.3.4,com.amazonaws:aws-java-sdk-bundle:1.12.262\") \\\n",
    "    .config(\"spark.sql.extensions\", \"io.delta.sql.DeltaSparkSessionExtension\") \\\n",
    "    .config(\"spark.sql.catalog.spark_catalog\", \"org.apache.spark.sql.delta.catalog.DeltaCatalog\") \\\n",
    "    .config(\"spark.hadoop.fs.s3a.impl\", \"org.apache.hadoop.fs.s3a.S3AFileSystem\") \\\n",
    "    .config(\"spark.hadoop.fs.s3a.endpoint\", \"http://minio:9000\") \\\n",
    "    .config(\"spark.hadoop.fs.s3a.aws.credentials.provider\", \"org.apache.hadoop.fs.s3a.SimpleAWSCredentialsProvider\") \\\n",
    "    .config(\"spark.hadoop.fs.s3a.access.key\", \"accesskey\") \\\n",
    "    .config(\"spark.hadoop.fs.s3a.secret.key\", \"secretkey\") \\\n",
    "    .config(\"spark.hadoop.fs.s3a.path.style.access\", \"true\") \\\n",
    "    .config(\"spark.hadoop.fs.s3a.path.style.access\", \"true\") \\\n",
    "    .config(\"spark.hadoop.fs.s3a.connection.ssl.enabled\", \"false\") \\\n",
    "    .config(\"spark.sql.catalogImplementation\", \"hive\") \\\n",
    "    .config(\"hive.metastore.uris\", \"thrift://hive-metastore:9083\") \\\n",
    "    .config(\"spark.hadoop.hive.metastore.warehouse.dir\", \"s3a://wba/warehouse\") \\\n",
    "    .getOrCreate()\n",
    "\n",
    "# spark = SparkSession.builder \\\n",
    "#     .appName(\"S3Test\") \\\n",
    "#     .getOrCreate()\n",
    "\n",
    "hadoop_conf = spark._jsc.hadoopConfiguration()\n",
    "print(\"fs.s3a.endpoint:\", hadoop_conf.get(\"fs.s3a.endpoint\"))\n",
    "print(\"fs.s3a.access.key:\", hadoop_conf.get(\"fs.s3a.access.key\"))\n",
    "print(\"fs.s3a.secret.key:\", hadoop_conf.get(\"fs.s3a.secret.key\"))\n",
    "print(\"fs.s3a.path.style.access:\", hadoop_conf.get(\"fs.s3a.path.style.access\"))"
   ]
  },
  {
   "cell_type": "code",
   "execution_count": null,
   "id": "b141a87f-32d5-4825-a902-14ce6cdfe7b8",
   "metadata": {},
   "outputs": [],
   "source": [
    "spark.sql(\"SHOW DATABASES\").show()"
   ]
  },
  {
   "cell_type": "code",
   "execution_count": null,
   "id": "bb1df618-942e-4c71-ae76-9f471122de77",
   "metadata": {},
   "outputs": [],
   "source": [
    "# Criar e verificar uma tabela teste\n",
    "spark.sql(\"CREATE DATABASE IF NOT EXISTS warehouse_db\")\n",
    "spark.sql(\"SHOW DATABASES\").show()\n",
    "spark.sql(\"USE warehouse_db\")"
   ]
  },
  {
   "cell_type": "code",
   "execution_count": null,
   "id": "efae1446-0ff9-406b-8b01-e9d3467fc20f",
   "metadata": {},
   "outputs": [],
   "source": [
    "data = [\n",
    "    {\"first_name\": \"bob\", \"age\": 47},\n",
    "    {\"first_name\": \"li\", \"age\": 23},\n",
    "    {\"first_name\": \"leah\", \"age\": 51},\n",
    "]\n",
    "df = spark.createDataFrame(data=data)\n",
    "df.show()"
   ]
  },
  {
   "cell_type": "code",
   "execution_count": null,
   "id": "0bddf473-8321-4950-b83d-0a8cf6b1b41a",
   "metadata": {},
   "outputs": [],
   "source": [
    "df.write.format(\"delta\").mode(\"overwrite\").option(\"overwriteSchema\", \"true\").saveAsTable(\"example\")"
   ]
  },
  {
   "cell_type": "code",
   "execution_count": null,
   "id": "30b791a6-af11-4c2f-b8ff-325308667d30",
   "metadata": {},
   "outputs": [],
   "source": [
    "spark.sql(\"SHOW TABLES\").show()"
   ]
  },
  {
   "cell_type": "code",
   "execution_count": null,
   "id": "8737c41e-8a42-494e-a95d-121e262f45e3",
   "metadata": {},
   "outputs": [],
   "source": [
    "df = spark.sql(\"SELECT * FROM example\")\n",
    "df.show()"
   ]
  },
  {
   "cell_type": "code",
   "execution_count": null,
   "id": "3ed82203-aa67-4d30-8328-8286fd697091",
   "metadata": {},
   "outputs": [],
   "source": [
    "spark.catalog.listDatabases()"
   ]
  }
 ],
 "metadata": {
  "kernelspec": {
   "display_name": "Python 3 (ipykernel)",
   "language": "python",
   "name": "python3"
  },
  "language_info": {
   "codemirror_mode": {
    "name": "ipython",
    "version": 3
   },
   "file_extension": ".py",
   "mimetype": "text/x-python",
   "name": "python",
   "nbconvert_exporter": "python",
   "pygments_lexer": "ipython3",
   "version": "3.11.6"
  }
 },
 "nbformat": 4,
 "nbformat_minor": 5
}
